{
 "cells": [
  {
   "cell_type": "markdown",
   "id": "latin-founder",
   "metadata": {},
   "source": [
    "<img src=\"https://heig-vd.ch/docs/default-source/doc-global-newsletter/2020-slim.svg\" alt=\"Logo HEIG-VD\" style=\"width: 80px;\" align=\"right\"/>\n",
    "\n",
    "# Cours APN - Labo 7 : Classification non supervisée\n",
    "\n",
    "## Résumé\n",
    "Le but de ce laboratoire est de réaliser une expérience de classification non-supervisée d'articles.  L'approche se base sur des vecteurs en basse dimension (*embeddings*) qui représentent les classes, qui seront comparés avec les vecteurs en basse dimension (*embeddings*) représentant les documents.  Ces *embeddings* seront obtenus soit grâce au modèle `word2vec`.  La méthode sera testée sur un corpus d'articles provenant de rubriques connues, ce qui permettra d'évaluer les méthodes."
   ]
  },
  {
   "cell_type": "code",
   "execution_count": 129,
   "id": "perceived-lodging",
   "metadata": {},
   "outputs": [],
   "source": [
    "# Librairies générales\n",
    "import pandas as pd\n",
    "import numpy as np\n",
    "import random\n",
    "from tqdm import tqdm"
   ]
  },
  {
   "cell_type": "code",
   "execution_count": 130,
   "id": "moved-statement",
   "metadata": {},
   "outputs": [],
   "source": [
    "# Similarité entre vecteurs (mots, catégories ou textes)\n",
    "from sklearn.metrics.pairwise import cosine_similarity"
   ]
  },
  {
   "cell_type": "code",
   "execution_count": 131,
   "id": "accepted-prison",
   "metadata": {},
   "outputs": [],
   "source": [
    "# Librairies pour l'évaluation\n",
    "import matplotlib.pyplot as plt\n",
    "from sklearn.metrics import classification_report, confusion_matrix, ConfusionMatrixDisplay, f1_score"
   ]
  },
  {
   "cell_type": "markdown",
   "id": "described-scanning",
   "metadata": {},
   "source": [
    "## 1. Préparation des données\n",
    "\n",
    "Vous utiliserez un corpus d'environ 200'000 articles (titres et résumés) [diponibles sur Kaggle](https://www.kaggle.com/datasets/rmisra/news-category-dataset/versions/2) (V2, 80 Mo, nécessite un login) mais dont une copie est **fournie sur Cyberlearn**.  Dans cette partie, vous allez:\n",
    "  - a. charger le corpus fourni au format JSON, l'explorer et afficher des statistiques\n",
    "  - b. définir une fonction de normalisation de textes (avec la librairie `utils.py` déjà utilisée)\n",
    "  - c. définir une fonction d'extraction des textes avec leur catégorie\n",
    "***"
   ]
  },
  {
   "cell_type": "markdown",
   "id": "representative-raising",
   "metadata": {},
   "source": [
    "**a.** Veuillez charger le corpus à l'aide des instructions données ci-dessous, puis afficher les statistiques suivantes :\n",
    "  * un exemple d'article\n",
    "  * nombre total d'articles\n",
    "  * nombre d'articles pour chaque catégorie (ou classe) par ordre décroissant\n",
    "  * nombre d'articles sans `headline`\n",
    "  * nombre d'articles sans `short_description`\n",
    "  * nombre d'articles dont la longueur de `headline + short_description` est inférieure ou égale à 2 caractères\n",
    "  * longueur moyenne de `headline + short_description`"
   ]
  },
  {
   "cell_type": "code",
   "execution_count": 132,
   "id": "aerial-integrity",
   "metadata": {},
   "outputs": [],
   "source": [
    "import json\n",
    "from collections import Counter # pour calculer facilement le nombre d'articles par categorie"
   ]
  },
  {
   "cell_type": "code",
   "execution_count": 133,
   "id": "mineral-saturday",
   "metadata": {},
   "outputs": [],
   "source": [
    "corpus  = []\n",
    "with open('News_Category_Dataset_v2.json', mode='r', errors='ignore') as json_file:\n",
    "    for dic in json_file:\n",
    "        corpus.append(json.loads(dic))"
   ]
  },
  {
   "cell_type": "code",
   "execution_count": 134,
   "id": "sapphire-bookmark",
   "metadata": {},
   "outputs": [
    {
     "name": "stdout",
     "output_type": "stream",
     "text": [
      "Exemple d'article: {'category': 'BLACK VOICES', 'headline': 'BET Chairman and CEO Debra Lee Is Stepping Down', 'authors': 'Carla Baranauckas', 'link': 'https://www.huffingtonpost.com/entry/bet-ceo-stepping-down-debra-lee_us_5b071754e4b07c4ea1066888', 'short_description': 'Lee brought more original shows to the black entertainment network and focused on family programming.', 'date': '2018-05-25'}\n",
      "Nombre total d'articles: 200853\n",
      "Nombre d'article par catégorie: Counter({'POLITICS': 32739, 'WELLNESS': 17827, 'ENTERTAINMENT': 16058, 'TRAVEL': 9887, 'STYLE & BEAUTY': 9649, 'PARENTING': 8677, 'HEALTHY LIVING': 6694, 'QUEER VOICES': 6314, 'FOOD & DRINK': 6226, 'BUSINESS': 5937, 'COMEDY': 5175, 'SPORTS': 4884, 'BLACK VOICES': 4528, 'HOME & LIVING': 4195, 'PARENTS': 3955, 'THE WORLDPOST': 3664, 'WEDDINGS': 3651, 'WOMEN': 3490, 'IMPACT': 3459, 'DIVORCE': 3426, 'CRIME': 3405, 'MEDIA': 2815, 'WEIRD NEWS': 2670, 'GREEN': 2622, 'WORLDPOST': 2579, 'RELIGION': 2556, 'STYLE': 2254, 'SCIENCE': 2178, 'WORLD NEWS': 2177, 'TASTE': 2096, 'TECH': 2082, 'MONEY': 1707, 'ARTS': 1509, 'FIFTY': 1401, 'GOOD NEWS': 1398, 'ARTS & CULTURE': 1339, 'ENVIRONMENT': 1323, 'COLLEGE': 1144, 'LATINO VOICES': 1129, 'CULTURE & ARTS': 1030, 'EDUCATION': 1004})\n",
      "Nombre d'articles sans headline: 6\n",
      "Nonbre d'articles sans short_description: 19712\n",
      "Nombre d'articles dont la longueur de headline + short_description est inférieure ou égale à 2 caractères: 5\n",
      "Longueur moyenne de headline + short_description: 172\n"
     ]
    }
   ],
   "source": [
    "print(f\"Exemple d'article: {corpus[31]}\")\n",
    "\n",
    "print(f\"Nombre total d'articles: {len(corpus)}\")\n",
    "\n",
    "print(f\"\"\"Nombre d'article par catégorie: {Counter([c[\"category\"] for c in corpus])}\"\"\")\n",
    "\n",
    "print(f\"\"\"Nombre d'articles sans headline: {Counter([c[\"headline\"] == \"\" for c in corpus])[True]}\"\"\")\n",
    "\n",
    "print(f\"\"\"Nonbre d'articles sans short_description: {Counter([c[\"short_description\"] == \"\" for c in corpus])[True]}\"\"\")\n",
    "\n",
    "print(f\"\"\"Nombre d'articles dont la longueur de headline + short_description est inférieure ou égale à 2 caractères: {Counter([len(c[\"headline\"] + c[\"short_description\"]) <= 2 for c in corpus])[True]}\"\"\")\n",
    "\n",
    "print(f\"\"\"Longueur moyenne de headline + short_description: {np.mean([len(c[\"headline\"] + c[\"short_description\"]) for c in corpus], dtype=int)}\"\"\")"
   ]
  },
  {
   "cell_type": "markdown",
   "id": "aerial-gates",
   "metadata": {},
   "source": [
    "**b.** Veuillez définir une fonction de nettoyage et normalisation des textes, qui vise à réduire la diversité du vocabulaire (lemmatisation, suppression des ponctuations, nombres, ou *stopwords*, etc.).  Veuillez utiliser les fonctions fournies dans la librairie `utils.py` fournie sur Cyberlearn et déjà vue au labo 3 (groupement hiérarchique de films).  Votre fonction devra prendre en entrée un texte non-tokenisé (une chaîne de caractères) et retournera un texte non-tokenisé."
   ]
  },
  {
   "cell_type": "code",
   "execution_count": 135,
   "id": "little-pottery",
   "metadata": {},
   "outputs": [],
   "source": [
    "import utils # fonctions de pré-traitement des textes"
   ]
  },
  {
   "cell_type": "code",
   "execution_count": 136,
   "id": "bottom-drilling",
   "metadata": {},
   "outputs": [],
   "source": [
    "def normalize_text(text):\n",
    "    text = utils.remove_punctuation(text)\n",
    "    text = utils.remove_stopwords(text)\n",
    "    text = utils.remove_non_alphabetic(text)\n",
    "    text = utils.lemmatize_text(text)\n",
    "    return text"
   ]
  },
  {
   "cell_type": "code",
   "execution_count": 137,
   "id": "c2b09a78",
   "metadata": {},
   "outputs": [
    {
     "name": "stdout",
     "output_type": "stream",
     "text": [
      "Avant traitement: “I’m unwilling to take no for an answer, I’m gonna make it law by executive order.\"\n",
      "Après traitement: i unwilling take answer i gon na law executive order\n"
     ]
    }
   ],
   "source": [
    "print(f\"\"\"Avant traitement: {corpus[2024][\"short_description\"]}\"\"\")\n",
    "print(f\"\"\"Après traitement: {normalize_text(corpus[2024][\"short_description\"])}\"\"\")"
   ]
  },
  {
   "cell_type": "markdown",
   "id": "referenced-supervisor",
   "metadata": {},
   "source": [
    "**c.** Veuillez écrire une fonction qui sélectionne les articles d'une ou plusieurs catégories (données sous forme de liste, p.ex. `['MONEY', 'SCIENCE']`) et retourne leurs textes et leurs catégories.  Plus précisément :\n",
    "* la fonction retourne une liste de textes et une liste de catégories de même longueur (au texte *i* correspond la catégorie ou classe *i*)\n",
    "* le texte de chaque article est composé de son `headline` et de sa `short_description`, séparés par un point+espace\n",
    "* si `normalize=True`, la fonction normalise les textes (note : ça ne sera pas toujours souhaitable dans les expériences suivantes)\n",
    "* on ne retient dans le résultat que les textes dont la longueur finale est supérieure à 3 caractères."
   ]
  },
  {
   "cell_type": "code",
   "execution_count": 138,
   "id": "secret-sport",
   "metadata": {},
   "outputs": [],
   "source": [
    "def select_texts_categories(corpus, selected_categories, normalize=True):\n",
    "    texts = []\n",
    "    categories = []\n",
    "\n",
    "    for article in tqdm(corpus):\n",
    "        if article[\"category\"] in selected_categories:\n",
    "            text = article[\"headline\"] + \". \" + article[\"short_description\"]\n",
    "            \n",
    "            texts.append(normalize_text(text) if normalize else text)\n",
    "            categories.append(article[\"category\"])\n",
    "            \n",
    "    return texts, categories"
   ]
  },
  {
   "cell_type": "markdown",
   "id": "earlier-research",
   "metadata": {},
   "source": [
    "**d.** Veuillez exécuter la fonction, en appliquant la normalisation des textes, puis afficher un exemple de résultat et commenter brièvement son contenu.  Le code est donné ci-dessous, et vous devez ajouter votre commentaire."
   ]
  },
  {
   "cell_type": "code",
   "execution_count": 139,
   "id": "directed-attack",
   "metadata": {},
   "outputs": [
    {
     "name": "stderr",
     "output_type": "stream",
     "text": [
      "100%|██████████| 200853/200853 [00:06<00:00, 29102.37it/s]"
     ]
    },
    {
     "name": "stdout",
     "output_type": "stream",
     "text": [
      "Exemple : SCIENCE : fireball rip through siberian sky in brilliant display of light frankly i scar i think bomb witness say\n"
     ]
    },
    {
     "name": "stderr",
     "output_type": "stream",
     "text": [
      "\n"
     ]
    }
   ],
   "source": [
    "selected_categories = ['MONEY', 'SCIENCE']\n",
    "texts, categories = select_texts_categories(corpus, selected_categories, normalize=True)\n",
    "print(\"Exemple :\", categories[142], ':', texts[142])"
   ]
  },
  {
   "cell_type": "markdown",
   "id": "93cddc96",
   "metadata": {},
   "source": [
    "**Réponse**: La _headline_ est un peu plus compréhensible (et plus proche du texte non-normalisé) que la description courte. L'utilisation de _scar_ à la place de _scared_ du texte original pourrait porter à confusion et ne donne pas la même information (j'ai été blessé _vs_ j'ai eu peur)."
   ]
  },
  {
   "cell_type": "markdown",
   "id": "linear-tampa",
   "metadata": {},
   "source": [
    "___\n",
    "## 2. Classification non supervisée avec des embeddings word2vec\n",
    "\n",
    "La méthode de classification proposée comporte trois étapes.  Le but de cette partie est de définir une fonction pour chacune d'elles.  Au début, une (re)prise en main de word2vec est demandée.\n",
    "* a. prise en main de word2vec\n",
    "* b. création des représentations vectorielles (*embeddings*) des classes (catégories)\n",
    "* c. création des représentations vectorielles (*embeddings*) d'un texte\n",
    "* d. classification : comparer les similarités du vecteur de texte avec les vecteurs des classes, choisir la plus similaire\n",
    "___"
   ]
  },
  {
   "cell_type": "markdown",
   "id": "marine-trustee",
   "metadata": {},
   "source": [
    "**a.** Prise en main de word2vec.  Vous avez déjà utilisé word2vec au Labo 4 sur la visualisation de vecteurs de mots (et Cémantix) mais ici vous utiliserez un modèle pour l'anglais.  Vous pouvez consulter la [documentation de gensim sur KeyedVectors](https://radimrehurek.com/gensim/models/keyedvectors.html#what-can-i-do-with-word-vectors)). "
   ]
  },
  {
   "cell_type": "code",
   "execution_count": 140,
   "id": "available-partner",
   "metadata": {},
   "outputs": [],
   "source": [
    "import gensim\n",
    "from gensim.models import KeyedVectors"
   ]
  },
  {
   "cell_type": "code",
   "execution_count": 141,
   "id": "different-denial",
   "metadata": {},
   "outputs": [],
   "source": [
    "# Si le modèle n'est pas téléchargé :\n",
    "#w2v_model = gensim.downloader.load('word2vec-google-news-300')\n",
    "# S'il l'est déjà, indiquer son emplacement :\n",
    "path_to_model = \"C:\\\\Users\\\\hugo\\\\code\\\\heig\\\\apn\\\\APN_L7\\\\word2vec-google-news-300.gz\"\n",
    "w2v_model = KeyedVectors.load_word2vec_format(path_to_model, binary=True)\n",
    "# Attention, ce modèle prend environ 5 Go en mémoire. "
   ]
  },
  {
   "cell_type": "markdown",
   "id": "acknowledged-tournament",
   "metadata": {},
   "source": [
    "Veuillez afficher les mots les plus similaires selon ce modèle word2vec du mot 'science'.  Même question pour le mot 'money' (ce sont des noms de catégories).  Que pensez-vous du résultat ?  "
   ]
  },
  {
   "cell_type": "code",
   "execution_count": 142,
   "id": "australian-newman",
   "metadata": {},
   "outputs": [
    {
     "name": "stdout",
     "output_type": "stream",
     "text": [
      "science:\n",
      "[('faith_Jezierski', 0.6965422034263611), ('sciences', 0.6821076273918152), ('biology', 0.6775783896446228), ('scientific', 0.6535001993179321), ('mathematics', 0.6300910115242004), ('Hilal_Khashan_professor', 0.6153368353843689), ('impeach_USADA', 0.6149060130119324), ('professor_Kent_Redfield', 0.6144178509712219), ('physics_astronomy', 0.6105074882507324), ('bionic_prosthetic_fingers', 0.6083078980445862)]\n",
      "money:\n",
      "[('monies', 0.7165061831474304), ('funds', 0.7055202722549438), ('moneys', 0.6289054751396179), ('dollars', 0.628852367401123), ('cash', 0.6151221394538879), ('vast_sums', 0.6057385802268982), ('fund', 0.5789709091186523), ('Money', 0.5733489394187927), ('taxpayer_dollars', 0.5693671107292175), ('Monies', 0.5586517453193665)]\n"
     ]
    }
   ],
   "source": [
    "print(\"science:\")\n",
    "print(w2v_model.most_similar(\"science\"))\n",
    "\n",
    "print(\"money:\")\n",
    "print(w2v_model.most_similar(\"money\"))"
   ]
  },
  {
   "cell_type": "markdown",
   "id": "1d7ee750",
   "metadata": {},
   "source": [
    "**Réponse**: Certains mots donnés comme similaires à _science_, p.ex _faith_Jezierski_, _Hilal_Khashan_professor_, etc. ne sont pas vraiments des noms communs mais plutôt des noms de personnes. Ils sont probablement issus de la littérature scientifique ingérée par le modèle où le mot _science_ devait lui même être très présent également et a été associé à ces noms là.\n",
    "\n",
    "Pour _money_, les résultats sont plus conventionnels bien que l'on peut noter la redondance du terme _monies_ avec et sans majuscule, ainsi que la présence de termes à plusieurs mots comme par exemple _taxpayer_dollars_ ou _vasts_sums_."
   ]
  },
  {
   "cell_type": "markdown",
   "id": "sorted-diana",
   "metadata": {},
   "source": [
    "Basé sur les résultats précédents et vos intuitions sur les articles qu'on peut trouver dans les catégories `['SCIENCE', 'MONEY']`, veuillez indiquer ici 5 à 10 mots représentatifs de chacune de ces deux catégories."
   ]
  },
  {
   "cell_type": "markdown",
   "id": "cellular-roots",
   "metadata": {},
   "source": [
    "**Réponse**:\n",
    "\n",
    "_science_: _biology_, _mathematics_, _physics_, _meteorology_, _astronomy_\n",
    "\n",
    "_money_: _dollar_, _cash_, _fund_, _taxpayer_, _sum_"
   ]
  },
  {
   "cell_type": "markdown",
   "id": "utility-macintosh",
   "metadata": {},
   "source": [
    "**b.** Création des représentations vectorielles des classes (catégories).\n",
    "\n",
    "Veuillez définir une fonction qui retourne un vecteur (*embedding*) word2vec pour chacune des classes d'un tableau qui est fourni en argument de la fonction.  Consignes :\n",
    "\n",
    "* la fonction retourne la moyenne des *embeddings* des mots-clés associés à chaque classe;\n",
    "* pour les classes 'SCIENCE' et 'MONEY', elle prend les mots-clés que vous avez choisis ci-dessus (au (a)) ;\n",
    "* pour les autres classes, elle demande à word2vec les `topn` voisins du nom de la classe (en minuscules) ;\n",
    "  - si `topn = 0`, on utilise seulement le nom de la classe (en minuscules) ;\n",
    "  - on suppose que le nom de la classe est connu de word2vec.\n"
   ]
  },
  {
   "cell_type": "code",
   "execution_count": null,
   "id": "7cf8c2d9",
   "metadata": {},
   "outputs": [],
   "source": []
  },
  {
   "cell_type": "code",
   "execution_count": 143,
   "id": "empty-pilot",
   "metadata": {},
   "outputs": [],
   "source": [
    "def cat_embedding_w2v(model, category_names, topn=30):\n",
    "    science_kw = [\"biology\", \"mathematics\", \"physics\", \"meteorology\", \"astronomy\"]\n",
    "    money_kw = [\"dollar\", \"cash\", \"fund\", \"taxpayer\", \"sum\"]\n",
    "\n",
    "    category_embeddings = []\n",
    "\n",
    "    for category in category_names:\n",
    "        words = []\n",
    "        match category:\n",
    "            case \"SCIENCE\":\n",
    "                words = science_kw\n",
    "            case \"MONEY\":\n",
    "                words = money_kw\n",
    "            case _:\n",
    "                words = np.array(model.most_similar(category.lower(), topn))[:, 0] if topn > 0 else [category.lower()]\n",
    "\n",
    "        category_embeddings.append(np.mean([model.get_vector(kw) for kw in words], axis=0))\n",
    "\n",
    "    return np.array(category_embeddings)"
   ]
  },
  {
   "cell_type": "code",
   "execution_count": 144,
   "id": "three-elimination",
   "metadata": {},
   "outputs": [
    {
     "data": {
      "text/plain": [
       "array([[ True]])"
      ]
     },
     "execution_count": 144,
     "metadata": {},
     "output_type": "execute_result"
    }
   ],
   "source": [
    "# Test : affiche-t-on 'True' ?\n",
    "e1 = cat_embedding_w2v(w2v_model, ['SCIENCE'], topn=30)\n",
    "e2 = cat_embedding_w2v(w2v_model, ['TECH'],    topn=30)\n",
    "e3 = cat_embedding_w2v(w2v_model, ['TASTE'],   topn=30)\n",
    "cosine_similarity(e1, e2) > cosine_similarity(e2, e3)"
   ]
  },
  {
   "cell_type": "markdown",
   "id": "appropriate-journal",
   "metadata": {},
   "source": [
    "**c.** Création de la représentation vectorielle d'un texte\n",
    "\n",
    "Veuillez définir une fonction qui prend un texte (*string*) en argument et retourne un vecteur (*embedding*) qui représente le texte.  Le texte doit être découpé en mots (tokenisé), puis on doit tester si chaque mot est connu du modèle word2vec, et si oui, on récupère le *embedding* du mot.  La fonction retourne la moyenne des *embeddings*, sauf si aucun mot du texte n'est connu du modèle word2vec, auquel cas elle retourne `[]`."
   ]
  },
  {
   "cell_type": "code",
   "execution_count": 145,
   "id": "thick-accounting",
   "metadata": {},
   "outputs": [],
   "source": [
    "from nltk import word_tokenize"
   ]
  },
  {
   "cell_type": "code",
   "execution_count": 146,
   "id": "asian-plant",
   "metadata": {},
   "outputs": [],
   "source": [
    "def text_embedding_w2v(model, text):\n",
    "    embedding = []\n",
    "    for token in word_tokenize(text):\n",
    "        if model.has_index_for(token):\n",
    "            embedding.append(model.get_vector(token))\n",
    "\n",
    "    return embedding if len(embedding) == 0 else np.mean(embedding, axis=0)"
   ]
  },
  {
   "cell_type": "markdown",
   "id": "cutting-samoa",
   "metadata": {},
   "source": [
    "**d.** Classification non supervisée d'articles avec word2vec\n",
    "\n",
    "Veuillez définir une fonction qui prend en entrée :\n",
    "* un modèle word2vec\n",
    "* une liste de textes à classifier\n",
    "* une liste de catégories définies par leur nom en majuscules (p.ex. `['SCIENCE', 'MONEY']`)\n",
    "et qui retourne le tableau avec la catégorie prédite pour chaque texte parmi les catégories données.  \n",
    "\n",
    "Pour prédire la catégorie, la fonction calcule la similarité cosinus du *embedding* du texte avec chacun des *embeddings* des catégories, et choisit la catégorie qui a la plus grande similarité.  Si le texte n'a pas de *embedding* (parce qu'aucun de ses mots n'est connu du modèle), ou si plusieurs catégories ont la même similarité, on tire au sort la catégorie."
   ]
  },
  {
   "cell_type": "code",
   "execution_count": 147,
   "id": "compatible-welsh",
   "metadata": {},
   "outputs": [],
   "source": [
    "def classify_w2v(model, texts, selected_categories, topn = 30):\n",
    "    cat_embeddings = cat_embedding_w2v(model, selected_categories, topn=topn)\n",
    "    cat_pred = []\n",
    "\n",
    "    for text in tqdm(texts):\n",
    "        text_embedding = text_embedding_w2v(model, text) # cosine_similarity nécéssite deux dimensions\n",
    "        if len(text_embedding) == 0:\n",
    "            cat_pred.append(np.random.choice(selected_categories))\n",
    "            continue\n",
    "        else:\n",
    "            text_embedding = np.array([text_embedding])\n",
    "            \n",
    "        similarities = cosine_similarity(text_embedding, cat_embeddings)\n",
    "        cat_pred.append(selected_categories[np.argmax(similarities)])\n",
    "\n",
    "    return cat_pred"
   ]
  },
  {
   "cell_type": "markdown",
   "id": "exciting-river",
   "metadata": {},
   "source": [
    "**e.** Veuillez réaliser la classification non supervisée des articles des catégories `['SCIENCE', 'MONEY']`.  Afficher les scores obtenus et la matrice de confusion en utilisant les fonctions de `sklearn.metrics` importées au début du notebook.  Veuillez faire plusieurs essais pour optimiser les fonctions et leurs appels, et à la fin laisser votre meilleur résultat dans ce notebook.  "
   ]
  },
  {
   "cell_type": "code",
   "execution_count": 148,
   "id": "african-airport",
   "metadata": {},
   "outputs": [
    {
     "name": "stderr",
     "output_type": "stream",
     "text": [
      "100%|██████████| 200853/200853 [00:06<00:00, 29372.68it/s]\n"
     ]
    }
   ],
   "source": [
    "selected_categories = ['SCIENCE', 'MONEY']\n",
    "selected_texts = select_texts_categories(corpus, selected_categories=selected_categories, normalize=True)"
   ]
  },
  {
   "cell_type": "code",
   "execution_count": 149,
   "id": "104c27bf",
   "metadata": {},
   "outputs": [
    {
     "name": "stderr",
     "output_type": "stream",
     "text": [
      "100%|██████████| 3885/3885 [00:01<00:00, 2433.49it/s]\n"
     ]
    },
    {
     "name": "stdout",
     "output_type": "stream",
     "text": [
      "              precision    recall  f1-score   support\n",
      "\n",
      "       MONEY       0.66      0.99      0.79      1707\n",
      "     SCIENCE       0.98      0.61      0.75      2178\n",
      "\n",
      "    accuracy                           0.77      3885\n",
      "   macro avg       0.82      0.80      0.77      3885\n",
      "weighted avg       0.84      0.77      0.77      3885\n",
      "\n"
     ]
    },
    {
     "data": {
      "image/png": "[encoded data removed]",
      "text/plain": [
       "<Figure size 640x480 with 2 Axes>"
      ]
     },
     "metadata": {},
     "output_type": "display_data"
    }
   ],
   "source": [
    "pred = classify_w2v(w2v_model, selected_texts[0], selected_categories=selected_categories)\n",
    "\n",
    "print(classification_report(selected_texts[1], pred))\n",
    "ConfusionMatrixDisplay(confusion_matrix(selected_texts[1], pred, labels=selected_categories), display_labels=selected_categories).plot()\n",
    "plt.show()"
   ]
  },
  {
   "cell_type": "markdown",
   "id": "afe22ba1",
   "metadata": {},
   "source": [
    "On constate que l'on obtient de meilleures scores avec des textes normalisés. "
   ]
  },
  {
   "cell_type": "markdown",
   "id": "integral-livestock",
   "metadata": {},
   "source": [
    "**f.** Veuillez réaliser une expérience de classification non supervisée sur les articles des catégories `['TECH', 'ARTS', 'COLLEGE']` en variant le paramètre `topn` de `classify_w2v` et en indiquant la meilleure valeur trouvée."
   ]
  },
  {
   "cell_type": "code",
   "execution_count": 150,
   "id": "posted-coaching",
   "metadata": {},
   "outputs": [
    {
     "name": "stderr",
     "output_type": "stream",
     "text": [
      "100%|██████████| 200853/200853 [00:08<00:00, 24890.63it/s]\n"
     ]
    }
   ],
   "source": [
    "selected_categories = ['TECH', 'ARTS', 'COLLEGE']\n",
    "selected_texts = select_texts_categories(corpus, selected_categories=selected_categories, normalize=True)"
   ]
  },
  {
   "cell_type": "code",
   "execution_count": 151,
   "id": "220e55c2",
   "metadata": {},
   "outputs": [
    {
     "name": "stderr",
     "output_type": "stream",
     "text": [
      "100%|██████████| 4735/4735 [00:01<00:00, 2403.34it/s]\n",
      "100%|██████████| 4735/4735 [00:01<00:00, 2447.45it/s]\n",
      "100%|██████████| 4735/4735 [00:01<00:00, 2471.46it/s]\n",
      "100%|██████████| 4735/4735 [00:01<00:00, 2416.40it/s]\n",
      "100%|██████████| 4735/4735 [00:01<00:00, 2455.46it/s]\n",
      "100%|██████████| 4735/4735 [00:01<00:00, 2415.60it/s]\n",
      "100%|██████████| 4735/4735 [00:01<00:00, 2392.57it/s]\n",
      "100%|██████████| 4735/4735 [00:01<00:00, 2405.17it/s]\n",
      "100%|██████████| 4735/4735 [00:01<00:00, 2436.19it/s]\n",
      "100%|██████████| 4735/4735 [00:01<00:00, 2454.32it/s]\n",
      "100%|██████████| 4735/4735 [00:01<00:00, 2436.78it/s]\n",
      "100%|██████████| 4735/4735 [00:01<00:00, 2454.37it/s]\n",
      "100%|██████████| 4735/4735 [00:01<00:00, 2452.81it/s]\n",
      "100%|██████████| 4735/4735 [00:01<00:00, 2443.92it/s]\n",
      "100%|██████████| 4735/4735 [00:01<00:00, 2417.78it/s]\n",
      "100%|██████████| 4735/4735 [00:01<00:00, 2406.00it/s]\n",
      "100%|██████████| 4735/4735 [00:01<00:00, 2464.79it/s]\n",
      "100%|██████████| 4735/4735 [00:01<00:00, 2435.59it/s]\n",
      "100%|██████████| 4735/4735 [00:01<00:00, 2433.34it/s]\n",
      "100%|██████████| 4735/4735 [00:01<00:00, 2447.49it/s]\n",
      "100%|██████████| 4735/4735 [00:01<00:00, 2440.06it/s]\n",
      "100%|██████████| 4735/4735 [00:01<00:00, 2431.98it/s]\n",
      "100%|██████████| 4735/4735 [00:01<00:00, 2404.28it/s]\n",
      "100%|██████████| 4735/4735 [00:01<00:00, 2421.09it/s]\n",
      "100%|██████████| 4735/4735 [00:01<00:00, 2431.67it/s]\n",
      "100%|██████████| 4735/4735 [00:01<00:00, 2433.31it/s]\n",
      "100%|██████████| 4735/4735 [00:01<00:00, 2435.30it/s]\n",
      "100%|██████████| 4735/4735 [00:01<00:00, 2415.88it/s]\n",
      "100%|██████████| 4735/4735 [00:01<00:00, 2448.15it/s]\n",
      "100%|██████████| 4735/4735 [00:01<00:00, 2434.21it/s]\n",
      "100%|██████████| 4735/4735 [00:01<00:00, 2400.16it/s]\n",
      "100%|██████████| 4735/4735 [00:01<00:00, 2408.57it/s]\n",
      "100%|██████████| 4735/4735 [00:01<00:00, 2401.59it/s]\n",
      "100%|██████████| 4735/4735 [00:01<00:00, 2402.35it/s]\n",
      "100%|██████████| 4735/4735 [00:01<00:00, 2446.07it/s]\n",
      "100%|██████████| 4735/4735 [00:02<00:00, 2359.57it/s]\n",
      "100%|██████████| 4735/4735 [00:02<00:00, 2282.71it/s]\n",
      "100%|██████████| 4735/4735 [00:01<00:00, 2441.82it/s]\n",
      "100%|██████████| 4735/4735 [00:01<00:00, 2394.57it/s]\n",
      "100%|██████████| 4735/4735 [00:01<00:00, 2412.96it/s]\n",
      "100%|██████████| 4735/4735 [00:01<00:00, 2415.84it/s]\n",
      "100%|██████████| 4735/4735 [00:01<00:00, 2428.58it/s]\n",
      "100%|██████████| 4735/4735 [00:01<00:00, 2419.35it/s]\n",
      "100%|██████████| 4735/4735 [00:01<00:00, 2430.16it/s]\n",
      "100%|██████████| 4735/4735 [00:01<00:00, 2402.06it/s]\n",
      "100%|██████████| 4735/4735 [00:01<00:00, 2438.17it/s]\n",
      "100%|██████████| 4735/4735 [00:01<00:00, 2448.17it/s]\n",
      "100%|██████████| 4735/4735 [00:01<00:00, 2410.47it/s]\n",
      "100%|██████████| 4735/4735 [00:01<00:00, 2424.92it/s]\n",
      "100%|██████████| 4735/4735 [00:01<00:00, 2442.16it/s]\n",
      "100%|██████████| 4735/4735 [00:01<00:00, 2420.11it/s]\n"
     ]
    },
    {
     "data": {
      "image/png": "[encoded data removed]",
      "text/plain": [
       "<Figure size 640x480 with 1 Axes>"
      ]
     },
     "metadata": {},
     "output_type": "display_data"
    },
    {
     "name": "stdout",
     "output_type": "stream",
     "text": [
      "Meilleur score: 0.8204857444561774 pour topn de 16\n"
     ]
    }
   ],
   "source": [
    "topns = list(range(0, 50+1))\n",
    "\n",
    "scores = []\n",
    "for topn in topns:\n",
    "    pred = classify_w2v(w2v_model, selected_texts[0], selected_categories=selected_categories, topn=topn)\n",
    "    scores.append(f1_score(selected_texts[1], pred, average=\"micro\"))\n",
    "\n",
    "plt.scatter(topns, scores)\n",
    "plt.xlabel(\"topn\")\n",
    "plt.ylabel(\"f1-score (micro)\")\n",
    "plt.show()\n",
    "\n",
    "print(f\"Meilleur score: {np.max(scores)} pour topn de {topns[np.argmax(scores)]}\")"
   ]
  },
  {
   "cell_type": "markdown",
   "id": "b0e9ba65",
   "metadata": {},
   "source": [
    "Une valeur de 16 pour _topn_ fournit le meilleur f1-score (micro) d'une valeur de ~0.82.\n",
    "\n",
    "Voici les autres scores obtenus et la matrice de confusion associée à ce résultat:"
   ]
  },
  {
   "cell_type": "code",
   "execution_count": 152,
   "id": "bc0fbb67",
   "metadata": {},
   "outputs": [
    {
     "name": "stderr",
     "output_type": "stream",
     "text": [
      "100%|██████████| 4735/4735 [00:01<00:00, 2466.67it/s]\n"
     ]
    },
    {
     "name": "stdout",
     "output_type": "stream",
     "text": [
      "              precision    recall  f1-score   support\n",
      "\n",
      "        ARTS       0.84      0.74      0.79      1509\n",
      "     COLLEGE       0.78      0.83      0.80      1144\n",
      "        TECH       0.83      0.88      0.85      2082\n",
      "\n",
      "    accuracy                           0.82      4735\n",
      "   macro avg       0.82      0.81      0.81      4735\n",
      "weighted avg       0.82      0.82      0.82      4735\n",
      "\n"
     ]
    },
    {
     "data": {
      "image/png": "[encoded data removed]",
      "text/plain": [
       "<Figure size 640x480 with 2 Axes>"
      ]
     },
     "metadata": {},
     "output_type": "display_data"
    }
   ],
   "source": [
    "pred = classify_w2v(w2v_model, selected_texts[0], selected_categories=selected_categories, topn=16)\n",
    "\n",
    "print(classification_report(selected_texts[1], pred))\n",
    "ConfusionMatrixDisplay(confusion_matrix(selected_texts[1], pred, labels=selected_categories), display_labels=selected_categories).plot()\n",
    "plt.show()"
   ]
  },
  {
   "cell_type": "markdown",
   "id": "agreed-elizabeth",
   "metadata": {},
   "source": [
    "**g.** Veuillez comparer les deux expériences (points (e) et (f)) en termes de scores, de valeurs optimales de `topn`, et de l'impact du nettoyage de textes.   Veuillez donner votre opinion sur la qualité de la classification non supervisée avec word2vec."
   ]
  },
  {
   "cell_type": "markdown",
   "id": "loaded-silicon",
   "metadata": {},
   "source": [
    "**Réponse**: On obtient de meilleures scores au point (f), cela est peut-être expliqué par le fait que les mots utilisé pour la construction des vecteurs des classes utilisées n'ont pas été choisi arbitrairement contrairement aux classe _SCIENCE_ et _MONEY_, bien que les scores obtenus lors de la classification de ces deux classes sont tout de même loin d'être passables. On constate qu'au delà d'un certain seuil (~10-15), de plus grandes valeur de _topn_ ne permettent pas d'obtenir une classification significativement meilleure. Le nettoyage du texte possède un impact important sur la qualité de la classification.\n",
    "\n",
    "En conclusion, on constate que la classification non-supervisée permet d'obtenir des résultats corrects, pas exactement parfaits mais sans doute suffisants pour de nombreux cas d'application, sans oublier la grande flexibilité proposée par cette méthode. "
   ]
  },
  {
   "cell_type": "markdown",
   "id": "improving-drunk",
   "metadata": {},
   "source": [
    "**Fin du Labo.**  Veuillez nettoyer ce notebook en gardant seulement les résultats et les commentaires demandés, l'enregistrer, et le soumettre comme devoir sur Cyberlearn."
   ]
  }
 ],
 "metadata": {
  "kernelspec": {
   "display_name": "Python 3",
   "language": "python",
   "name": "python3"
  },
  "language_info": {
   "codemirror_mode": {
    "name": "ipython",
    "version": 3
   },
   "file_extension": ".py",
   "mimetype": "text/x-python",
   "name": "python",
   "nbconvert_exporter": "python",
   "pygments_lexer": "ipython3",
   "version": "3.11.7"
  }
 },
 "nbformat": 4,
 "nbformat_minor": 5
}
